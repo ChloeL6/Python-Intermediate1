{
 "cells": [
  {
   "cell_type": "markdown",
   "metadata": {},
   "source": [
    " <!-- A function called fourth_place() that takes a list as an argument:\n",
    " - it should return the fourth item in the list\n",
    " - use try/except to catch IndexErrors when a list shorter than four items is passed in -->"
   ]
  },
  {
   "cell_type": "code",
   "execution_count": 43,
   "metadata": {},
   "outputs": [
    {
     "name": "stdout",
     "output_type": "stream",
     "text": [
      "Please enter at least four items in the string\n"
     ]
    }
   ],
   "source": [
    "def fourth_place(list: any) -> any:\n",
    "    \"\"\"Take a list of integers or strings, return the fourth item in the list\"\"\"\n",
    "    try:\n",
    "        print(list[3])\n",
    "    except IndexError:\n",
    "        print(\"Please enter at least four items in the list\")\n",
    "\n",
    "fourth_place([\"hope\", \"you \", \"have\"])"
   ]
  },
  {
   "cell_type": "markdown",
   "metadata": {},
   "source": [
    " <!-- A lambda function that takes the two integers as arguments, and subtracts the second number from the first\n",
    " - assign a variable called subtracter_lambda to the lambda function\n",
    " - below the variable assignment, call subtracter_lambda -->"
   ]
  },
  {
   "cell_type": "code",
   "execution_count": 52,
   "metadata": {},
   "outputs": [
    {
     "data": {
      "text/plain": [
       "-1"
      ]
     },
     "execution_count": 52,
     "metadata": {},
     "output_type": "execute_result"
    }
   ],
   "source": [
    "lambda a,b : a-b\n",
    "\n",
    "subtracter_lambda = lambda a,b : a-b\n",
    "\"\"\"Take two integers, return the result of subtraction of second number from the first\"\"\"\n",
    "\n",
    "subtracter_lambda(3, 5)"
   ]
  },
  {
   "cell_type": "markdown",
   "metadata": {},
   "source": [
    "<!-- A class called Shoe that has the following attributes:\n",
    "- US_size: an integer\n",
    "- color: a string\n",
    "- smelly: a Boolean\n",
    "- Shoe should also have a method called euro_size() that converts US_size to European sizing by adding 33, and prints a string saying Euro size\n",
    "Below the class definition, create two instances of Shoe\n",
    "- call the euro_size() method on each instance -->"
   ]
  },
  {
   "cell_type": "code",
   "execution_count": 20,
   "metadata": {},
   "outputs": [
    {
     "name": "stdout",
     "output_type": "stream",
     "text": [
      "Euro shoes size is: 43 \n",
      "Euro shoes size is: 39 \n"
     ]
    }
   ],
   "source": [
    "class Shoe:\n",
    "    \"\"\"\n",
    "    A class to describe a pair of shoes.\n",
    "\n",
    "    Attributes:\n",
    "        US_size: shoes size\n",
    "        color: shoes color\n",
    "        smelly: boolean\n",
    "\n",
    "    Methods:\n",
    "        euro_size(): convert US shoes size to Euro size and print out new value\n",
    "    \"\"\"\n",
    "    def __init__(self, US_size: int, color: str, smelly: bool ) -> None:\n",
    "        self.US_size = US_size\n",
    "        self.color = color\n",
    "        self.smelly = smelly\n",
    "\n",
    "    def euro_size(self):\n",
    "        self.US_size += 33\n",
    "        print(f\"Euro shoes size is: {self.US_size} \")\n",
    "\n",
    "my_shoe = Shoe(10, \"blue\", True )\n",
    "your_shoe = Shoe(6, \"red\", False)\n",
    "\n",
    "my_shoe.euro_size()\n",
    "your_shoe.euro_size()\n"
   ]
  },
  {
   "cell_type": "markdown",
   "metadata": {},
   "source": [
    "Write a function called galaxy(). galaxy() should take:\n",
    "- a positional argument of the name of the galaxy\n",
    "- a varying number of arguments for objects found in the galaxy, like asteroids and dust\n",
    "- a keyword argument of pluto_is_planet, which defaults to a Boolean of your choice\n",
    "- a varying number of keyword arguments for planets and their color\n",
    "\n",
    "galaxy() should print a paragraph (a string or series of strings) of space facts. It should include:\n",
    "- The name of the galaxy\n",
    "- What the galaxy contains, if the user passed in any arguments\n",
    "- The number of planets passed in a keyword arguments, with the names of the planets and their colors, if the user passed in any keyword arguments\n",
    "\n",
    "Below the function definition, call galaxy(). You're welcome to make up facts."
   ]
  },
  {
   "cell_type": "code",
   "execution_count": 49,
   "metadata": {},
   "outputs": [
    {
     "name": "stdout",
     "output_type": "stream",
     "text": [
      "Our galaxy name is Milky Way\n",
      "It has: \n",
      "Dust\n",
      "Gas\n",
      "Huge Collection of Stars\n",
      "Actually, Pluto is still a planet\n",
      "Beside that, there are:\n",
      "Neptune planet, and its color is blue\n",
      "Venus planet, and its color is cream\n"
     ]
    }
   ],
   "source": [
    "def galaxy(name: str, *galaxy_objects: str, pluto_is_planet: bool = True, **planet_color):\n",
    "    \"\"\"Create a galaxy story based on user input\n",
    "    \n",
    "    Parameters:\n",
    "        name: galaxy name\n",
    "        galaxy_objects: many words for objects found in the galaxy\n",
    "        pluto_is_planet: enter true or false\n",
    "        planet_color: planet name and color which passed in as dictionary format planet=\"color\"\n",
    "    \n",
    "    Return:\n",
    "        A series of string about galaxy\n",
    "    \"\"\"\n",
    "\n",
    "    print(f'Our galaxy name is {name}')\n",
    "    if galaxy_objects:\n",
    "        print('It has: ')\n",
    "        for obj in galaxy_objects:\n",
    "            print(obj)\n",
    "    if pluto_is_planet == True:\n",
    "        print(f\"Yes, you're right\")\n",
    "    else:\n",
    "        print(f'Actually, Pluto is still a planet')\n",
    "\n",
    "    if planet_color:\n",
    "        print(f'Beside that, there are:')\n",
    "        for planet, color in planet_color.items():\n",
    "            print(f'{planet} planet, and its color is {color}')\n",
    "    \n",
    "\n",
    "galaxy(\"Milky Way\", \"Dust\", \"Gas\", \"Huge Collection of Stars\", pluto_is_planet =False, Neptune = \"blue\", Venus = \"cream\")"
   ]
  }
 ],
 "metadata": {
  "kernelspec": {
   "display_name": "Python 3.7.15 64-bit",
   "language": "python",
   "name": "python3"
  },
  "language_info": {
   "codemirror_mode": {
    "name": "ipython",
    "version": 3
   },
   "file_extension": ".py",
   "mimetype": "text/x-python",
   "name": "python",
   "nbconvert_exporter": "python",
   "pygments_lexer": "ipython3",
   "version": "3.7.15"
  },
  "orig_nbformat": 4,
  "vscode": {
   "interpreter": {
    "hash": "e5030792b3492f6b12d94f1f48beca3d8e59ec05fd59d0aaaa48e684281ed297"
   }
  }
 },
 "nbformat": 4,
 "nbformat_minor": 2
}
