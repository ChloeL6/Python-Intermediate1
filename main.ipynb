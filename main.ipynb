{
 "cells": [
  {
   "cell_type": "markdown",
   "metadata": {},
   "source": [
    "# A function called fourth_place() that takes a list as an argument:\n",
    "# - it should return the fourth item in the list\n",
    "# - use try/except to catch IndexErrors when a list shorter than four items is passed in"
   ]
  },
  {
   "cell_type": "code",
   "execution_count": 10,
   "metadata": {},
   "outputs": [
    {
     "name": "stdout",
     "output_type": "stream",
     "text": [
      "Please enter at least four items in the string\n"
     ]
    }
   ],
   "source": [
    "def fourth_place(list):\n",
    "    try:\n",
    "        print(list[3])\n",
    "    except IndexError:\n",
    "        print(\"Please enter at least four items in the string\")\n",
    "\n",
    "fourth_place([1,4,5])"
   ]
  },
  {
   "cell_type": "markdown",
   "metadata": {},
   "source": [
    "# A lambda function that takes the two integers as arguments, and subtracts the second number from the first\n",
    "# - assign a variable called subtracter_lambda to the lambda function\n",
    "# - below the variable assignment, call subtracter_lambda"
   ]
  },
  {
   "cell_type": "code",
   "execution_count": 12,
   "metadata": {},
   "outputs": [
    {
     "data": {
      "text/plain": [
       "-2"
      ]
     },
     "execution_count": 12,
     "metadata": {},
     "output_type": "execute_result"
    }
   ],
   "source": [
    "subtracter_lambda = lambda a,b : a-b\n",
    "\n",
    "subtracter_lambda(3, 5)"
   ]
  }
 ],
 "metadata": {
  "kernelspec": {
   "display_name": "Python 3.7.15 64-bit",
   "language": "python",
   "name": "python3"
  },
  "language_info": {
   "codemirror_mode": {
    "name": "ipython",
    "version": 3
   },
   "file_extension": ".py",
   "mimetype": "text/x-python",
   "name": "python",
   "nbconvert_exporter": "python",
   "pygments_lexer": "ipython3",
   "version": "3.7.15"
  },
  "orig_nbformat": 4,
  "vscode": {
   "interpreter": {
    "hash": "e5030792b3492f6b12d94f1f48beca3d8e59ec05fd59d0aaaa48e684281ed297"
   }
  }
 },
 "nbformat": 4,
 "nbformat_minor": 2
}
